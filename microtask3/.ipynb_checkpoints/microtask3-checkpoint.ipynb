{
 "cells": [
  {
   "cell_type": "code",
   "execution_count": 3,
   "metadata": {},
   "outputs": [],
   "source": [
    "from access_token import ACCESS_TOKEN\n",
    "from datetime import datetime\n",
    "from collections import defaultdict\n",
    "import json"
   ]
  },
  {
   "cell_type": "code",
   "execution_count": 1,
   "metadata": {},
   "outputs": [],
   "source": [
    "owner = 'Cloud-CV'\n",
    "repos = ['Fabrik', 'Origami', 'EvalAI']\n",
    "outfiles = []\n",
    "#for repo in repos:\n",
    "#    outfiles.append(repo.lower() + '.json')"
   ]
  },
  {
   "cell_type": "code",
   "execution_count": null,
   "metadata": {},
   "outputs": [
    {
     "name": "stdout",
     "output_type": "stream",
     "text": [
      "[2019-04-02 14:17:34,271] - Sir Perceval is on his quest.\n",
      "[2019-04-02 14:17:38,172] - Getting info for https://api.github.com/users/deshraj\n",
      "[2019-04-02 14:17:38,968] - Getting info for https://api.github.com/users/virajprabhu\n",
      "[2019-04-02 14:17:40,125] - Getting info for https://api.github.com/users/gauravgupta22\n",
      "[2019-04-02 14:17:41,000] - Getting info for https://api.github.com/users/gitter-badger\n",
      "[2019-04-02 14:17:42,153] - Getting info for https://api.github.com/users/anweshknayak\n",
      "[2019-04-02 14:17:43,408] - Getting info for https://api.github.com/users/tocttou\n",
      "[2019-04-02 14:17:47,243] - Getting info for https://api.github.com/users/souravsingh\n",
      "[2019-04-02 14:17:48,008] - Getting info for https://api.github.com/users/Arun-Jain\n",
      "[2019-04-02 14:17:49,171] - Getting info for https://api.github.com/users/RishabhJain2018\n",
      "[2019-04-02 14:17:51,826] - Getting info for https://api.github.com/users/Ram81\n",
      "[2019-04-02 14:17:53,061] - Getting info for https://api.github.com/users/venky18\n",
      "[2019-04-02 14:17:54,571] - Getting info for https://api.github.com/users/utsavgarg\n",
      "[2019-04-02 14:17:56,501] - Getting info for https://api.github.com/users/dexter1691\n",
      "[2019-04-02 14:17:58,606] - Getting info for https://api.github.com/users/Omarito2412\n",
      "[2019-04-02 14:18:06,462] - Getting info for https://api.github.com/users/umarbrowser\n",
      "[2019-04-02 14:18:08,209] - Getting info for https://api.github.com/users/devojoyti\n",
      "[2019-04-02 14:18:09,350] - Getting info for https://api.github.com/users/SudarAbisheck\n",
      "[2019-04-02 14:18:10,583] - Getting info for https://api.github.com/users/achillesrasquinha\n",
      "[2019-04-02 14:18:16,983] - Getting info for https://api.github.com/users/RahulVamusani\n",
      "[2019-04-02 14:18:18,870] - Getting info for https://api.github.com/users/jainamritanshu\n",
      "[2019-04-02 14:18:21,417] - Getting info for https://api.github.com/users/coveralls\n",
      "[2019-04-02 14:18:27,568] - Getting info for https://api.github.com/users/gauthamzz\n",
      "[2019-04-02 14:18:32,155] - Getting info for https://api.github.com/users/JeffMY05\n",
      "[2019-04-02 14:18:39,609] - Getting info for https://api.github.com/users/prakharchoudhary\n",
      "[2019-04-02 14:18:40,758] - Getting info for https://api.github.com/users/ithjz\n",
      "[2019-04-02 14:18:42,096] - Getting info for https://api.github.com/users/cclauss\n",
      "[2019-04-02 14:18:43,300] - Getting info for https://api.github.com/users/suraj44\n",
      "[2019-04-02 14:18:49,355] - Getting info for https://api.github.com/users/kdexd\n",
      "[2019-04-02 14:18:51,043] - Getting info for https://api.github.com/users/genome21\n",
      "[2019-04-02 14:18:54,337] - Getting info for https://api.github.com/users/nickeleres\n",
      "[2019-04-02 14:18:56,122] - Getting info for https://api.github.com/users/AtharvaKhare\n"
     ]
    }
   ],
   "source": [
    "for repo in repos:\n",
    "    outfile = repo.lower() + '.json'\n",
    "    !perceval github -t 'a9690702c04a1d5db3fcaebd5b6b522d439f3b44' --json-line --sleep-for-rate --category issue $owner $repo >> $outfile"
   ]
  },
  {
   "cell_type": "code",
   "execution_count": 4,
   "metadata": {},
   "outputs": [
    {
     "ename": "JSONDecodeError",
     "evalue": "Expecting value: line 1 column 1 (char 0)",
     "output_type": "error",
     "traceback": [
      "\u001b[0;31m-----------------------------------------------------------------\u001b[0m",
      "\u001b[0;31mJSONDecodeError\u001b[0m                 Traceback (most recent call last)",
      "\u001b[0;32m<ipython-input-4-30e81286fd70>\u001b[0m in \u001b[0;36m<module>\u001b[0;34m\u001b[0m\n\u001b[1;32m      5\u001b[0m     \u001b[0;32mwith\u001b[0m \u001b[0mopen\u001b[0m\u001b[0;34m(\u001b[0m\u001b[0mcandidate\u001b[0m \u001b[0;34m+\u001b[0m \u001b[0;34m'.json'\u001b[0m\u001b[0;34m)\u001b[0m \u001b[0;32mas\u001b[0m \u001b[0mf\u001b[0m\u001b[0;34m:\u001b[0m\u001b[0;34m\u001b[0m\u001b[0m\n\u001b[1;32m      6\u001b[0m         \u001b[0;32mfor\u001b[0m \u001b[0mline\u001b[0m \u001b[0;32min\u001b[0m \u001b[0mf\u001b[0m\u001b[0;34m:\u001b[0m\u001b[0;34m\u001b[0m\u001b[0m\n\u001b[0;32m----> 7\u001b[0;31m             \u001b[0mline\u001b[0m  \u001b[0;34m=\u001b[0m \u001b[0mjson\u001b[0m\u001b[0;34m.\u001b[0m\u001b[0mloads\u001b[0m\u001b[0;34m(\u001b[0m\u001b[0mline\u001b[0m\u001b[0;34m)\u001b[0m\u001b[0;34m\u001b[0m\u001b[0m\n\u001b[0m\u001b[1;32m      8\u001b[0m             \u001b[0;32mif\u001b[0m\u001b[0;34m(\u001b[0m\u001b[0mline\u001b[0m\u001b[0;34m[\u001b[0m\u001b[0;34m'data'\u001b[0m\u001b[0;34m]\u001b[0m\u001b[0;34m[\u001b[0m\u001b[0;34m'state'\u001b[0m\u001b[0;34m]\u001b[0m \u001b[0;34m==\u001b[0m \u001b[0;34m'closed'\u001b[0m \u001b[0;32mand\u001b[0m \u001b[0;34m\"pull_request\"\u001b[0m \u001b[0;32mnot\u001b[0m \u001b[0;32min\u001b[0m \u001b[0mline\u001b[0m\u001b[0;34m[\u001b[0m\u001b[0;34m\"data\"\u001b[0m\u001b[0;34m]\u001b[0m\u001b[0;34m)\u001b[0m\u001b[0;34m:\u001b[0m\u001b[0;34m\u001b[0m\u001b[0m\n\u001b[1;32m      9\u001b[0m                 time = (datetime.strptime(line['data']['closed_at'],\"%Y-%m-%dT%H:%M:%SZ\") - \n",
      "\u001b[0;32m/usr/lib/python3.5/json/__init__.py\u001b[0m in \u001b[0;36mloads\u001b[0;34m(s, encoding, cls, object_hook, parse_float, parse_int, parse_constant, object_pairs_hook, **kw)\u001b[0m\n\u001b[1;32m    317\u001b[0m             \u001b[0mparse_int\u001b[0m \u001b[0;32mis\u001b[0m \u001b[0;32mNone\u001b[0m \u001b[0;32mand\u001b[0m \u001b[0mparse_float\u001b[0m \u001b[0;32mis\u001b[0m \u001b[0;32mNone\u001b[0m \u001b[0;32mand\u001b[0m\u001b[0;34m\u001b[0m\u001b[0m\n\u001b[1;32m    318\u001b[0m             parse_constant is None and object_pairs_hook is None and not kw):\n\u001b[0;32m--> 319\u001b[0;31m         \u001b[0;32mreturn\u001b[0m \u001b[0m_default_decoder\u001b[0m\u001b[0;34m.\u001b[0m\u001b[0mdecode\u001b[0m\u001b[0;34m(\u001b[0m\u001b[0ms\u001b[0m\u001b[0;34m)\u001b[0m\u001b[0;34m\u001b[0m\u001b[0m\n\u001b[0m\u001b[1;32m    320\u001b[0m     \u001b[0;32mif\u001b[0m \u001b[0mcls\u001b[0m \u001b[0;32mis\u001b[0m \u001b[0;32mNone\u001b[0m\u001b[0;34m:\u001b[0m\u001b[0;34m\u001b[0m\u001b[0m\n\u001b[1;32m    321\u001b[0m         \u001b[0mcls\u001b[0m \u001b[0;34m=\u001b[0m \u001b[0mJSONDecoder\u001b[0m\u001b[0;34m\u001b[0m\u001b[0m\n",
      "\u001b[0;32m/usr/lib/python3.5/json/decoder.py\u001b[0m in \u001b[0;36mdecode\u001b[0;34m(self, s, _w)\u001b[0m\n\u001b[1;32m    337\u001b[0m \u001b[0;34m\u001b[0m\u001b[0m\n\u001b[1;32m    338\u001b[0m         \"\"\"\n\u001b[0;32m--> 339\u001b[0;31m         \u001b[0mobj\u001b[0m\u001b[0;34m,\u001b[0m \u001b[0mend\u001b[0m \u001b[0;34m=\u001b[0m \u001b[0mself\u001b[0m\u001b[0;34m.\u001b[0m\u001b[0mraw_decode\u001b[0m\u001b[0;34m(\u001b[0m\u001b[0ms\u001b[0m\u001b[0;34m,\u001b[0m \u001b[0midx\u001b[0m\u001b[0;34m=\u001b[0m\u001b[0m_w\u001b[0m\u001b[0;34m(\u001b[0m\u001b[0ms\u001b[0m\u001b[0;34m,\u001b[0m \u001b[0;36m0\u001b[0m\u001b[0;34m)\u001b[0m\u001b[0;34m.\u001b[0m\u001b[0mend\u001b[0m\u001b[0;34m(\u001b[0m\u001b[0;34m)\u001b[0m\u001b[0;34m)\u001b[0m\u001b[0;34m\u001b[0m\u001b[0m\n\u001b[0m\u001b[1;32m    340\u001b[0m         \u001b[0mend\u001b[0m \u001b[0;34m=\u001b[0m \u001b[0m_w\u001b[0m\u001b[0;34m(\u001b[0m\u001b[0ms\u001b[0m\u001b[0;34m,\u001b[0m \u001b[0mend\u001b[0m\u001b[0;34m)\u001b[0m\u001b[0;34m.\u001b[0m\u001b[0mend\u001b[0m\u001b[0;34m(\u001b[0m\u001b[0;34m)\u001b[0m\u001b[0;34m\u001b[0m\u001b[0m\n\u001b[1;32m    341\u001b[0m         \u001b[0;32mif\u001b[0m \u001b[0mend\u001b[0m \u001b[0;34m!=\u001b[0m \u001b[0mlen\u001b[0m\u001b[0;34m(\u001b[0m\u001b[0ms\u001b[0m\u001b[0;34m)\u001b[0m\u001b[0;34m:\u001b[0m\u001b[0;34m\u001b[0m\u001b[0m\n",
      "\u001b[0;32m/usr/lib/python3.5/json/decoder.py\u001b[0m in \u001b[0;36mraw_decode\u001b[0;34m(self, s, idx)\u001b[0m\n\u001b[1;32m    355\u001b[0m             \u001b[0mobj\u001b[0m\u001b[0;34m,\u001b[0m \u001b[0mend\u001b[0m \u001b[0;34m=\u001b[0m \u001b[0mself\u001b[0m\u001b[0;34m.\u001b[0m\u001b[0mscan_once\u001b[0m\u001b[0;34m(\u001b[0m\u001b[0ms\u001b[0m\u001b[0;34m,\u001b[0m \u001b[0midx\u001b[0m\u001b[0;34m)\u001b[0m\u001b[0;34m\u001b[0m\u001b[0m\n\u001b[1;32m    356\u001b[0m         \u001b[0;32mexcept\u001b[0m \u001b[0mStopIteration\u001b[0m \u001b[0;32mas\u001b[0m \u001b[0merr\u001b[0m\u001b[0;34m:\u001b[0m\u001b[0;34m\u001b[0m\u001b[0m\n\u001b[0;32m--> 357\u001b[0;31m             \u001b[0;32mraise\u001b[0m \u001b[0mJSONDecodeError\u001b[0m\u001b[0;34m(\u001b[0m\u001b[0;34m\"Expecting value\"\u001b[0m\u001b[0;34m,\u001b[0m \u001b[0ms\u001b[0m\u001b[0;34m,\u001b[0m \u001b[0merr\u001b[0m\u001b[0;34m.\u001b[0m\u001b[0mvalue\u001b[0m\u001b[0;34m)\u001b[0m \u001b[0;32mfrom\u001b[0m \u001b[0;32mNone\u001b[0m\u001b[0;34m\u001b[0m\u001b[0m\n\u001b[0m\u001b[1;32m    358\u001b[0m         \u001b[0;32mreturn\u001b[0m \u001b[0mobj\u001b[0m\u001b[0;34m,\u001b[0m \u001b[0mend\u001b[0m\u001b[0;34m\u001b[0m\u001b[0m\n",
      "\u001b[0;31mJSONDecodeError\u001b[0m: Expecting value: line 1 column 1 (char 0)"
     ]
    }
   ],
   "source": [
    "time_days = defaultdict(list)\n",
    "time_hours = defaultdict(list)\n",
    "for candidate in repos:\n",
    "    candidate = candidate.lower()\n",
    "    with open(candidate + '.json') as f:\n",
    "        for line in f:\n",
    "            line  = json.loads(line)\n",
    "            if(line['data']['state'] == 'closed' and \"pull_request\" not in line[\"data\"]):\n",
    "                time = (datetime.strptime(line['data']['closed_at'],\"%Y-%m-%dT%H:%M:%SZ\") - \n",
    "                                            datetime.strptime(line['data']['created_at'],\"%Y-%m-%dT%H:%M:%SZ\"))\n",
    "                                    \n",
    "                time_days[candidate].append(time.days)\n",
    "                \n",
    "                duration_in_s = time.total_seconds()\n",
    "                hours = int(divmod(duration_in_s, 3600)[0])\n",
    "                \n",
    "                time_hours[candidate].append(hours)"
   ]
  },
  {
   "cell_type": "code",
   "execution_count": null,
   "metadata": {},
   "outputs": [],
   "source": [
    "print(time_days)"
   ]
  },
  {
   "cell_type": "code",
   "execution_count": 44,
   "metadata": {},
   "outputs": [
    {
     "data": {
      "image/png": "[encoded data removed]",
      "text/plain": [
       "<matplotlib.figure.Figure at 0x7f90904c6518>"
      ]
     },
     "metadata": {},
     "output_type": "display_data"
    }
   ],
   "source": [
    "import matplotlib.pyplot as plt\n",
    "import seaborn as sns\n",
    "\n",
    "plt.hist(time_days['origami'], 30, range = [5, ])\n",
    "plt.xlabel(\"\")\n",
    "plt.ylabel(\"Issue Count\")\n",
    "plt.title()\n",
    "plt.show()\n",
    "#for candidate in repos:\n",
    "#    plt.hist(time_hours[candidate], 200, range = [5, 250])\n",
    "#    plt.show()"
   ]
  },
  {
   "cell_type": "code",
   "execution_count": 51,
   "metadata": {},
   "outputs": [],
   "source": [
    "from grimoirelab_toolkit.datetime import (datetime_to_utc,\n",
    "                                          datetime_utcnow,\n",
    "                                          str_to_datetime)\n",
    "import dateutil\n",
    "datetime(1970, 1, 1, 0, 0, 0,tzinfo=dateutil.tz.tzutc())"
   ]
  },
  {
   "cell_type": "code",
   "execution_count": null,
   "metadata": {},
   "outputs": [],
   "source": []
  }
 ],
 "metadata": {
  "kernelspec": {
   "display_name": "Python 3",
   "language": "python",
   "name": "python3"
  },
  "language_info": {
   "codemirror_mode": {
    "name": "ipython",
    "version": 3
   },
   "file_extension": ".py",
   "mimetype": "text/x-python",
   "name": "python",
   "nbconvert_exporter": "python",
   "pygments_lexer": "ipython3",
   "version": "3.5.2"
  }
 },
 "nbformat": 4,
 "nbformat_minor": 2
}
