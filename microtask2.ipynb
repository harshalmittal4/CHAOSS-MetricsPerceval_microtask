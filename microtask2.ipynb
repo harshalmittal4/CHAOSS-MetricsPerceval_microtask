{
 "cells": [
  {
   "cell_type": "code",
   "execution_count": 1,
   "metadata": {},
   "outputs": [],
   "source": [
    "import json\n",
    "from datetime import datetime \n",
    "import pandas as pd\n",
    "import csv\n",
    "import requests"
   ]
  },
  {
   "cell_type": "code",
   "execution_count": 2,
   "metadata": {},
   "outputs": [],
   "source": [
    "url = 'https://api.github.com/repos/tensorflow/datasets' # url of repo to be analysed\n",
    "info = requests.get(url)\n",
    "if(info.ok):\n",
    "    startyear = datetime.strptime(json.loads(info.text)['created_at'], \"%Y-%m-%dT%H:%M:%SZ\").year\n",
    "    endyear = datetime.strptime(json.loads(info.text)['updated_at'], \"%Y-%m-%dT%H:%M:%SZ\").year\n",
    "else : \n",
    "    info.raise_for_status()"
   ]
  },
  {
   "cell_type": "code",
   "execution_count": 3,
   "metadata": {},
   "outputs": [],
   "source": [
    "indexes = []\n",
    "for year in range(startyear, endyear+1):\n",
    "    for quarter in ['Q1', 'Q2', 'Q3', 'Q4']:\n",
    "        indexes.append(str(year) + '_' + quarter)\n",
    "        \n",
    "# dictionary mapping month to quarter\n",
    "quarter = {1:'Q1', 2:'Q1', 3:'Q1', 4:'Q2', 5:'Q2', 6:'Q2', 7:'Q3', 8:'Q3', 9:'Q3', 10:'Q4', 11:'Q4', 12:'Q4'}"
   ]
  },
  {
   "cell_type": "code",
   "execution_count": 26,
   "metadata": {},
   "outputs": [],
   "source": [
    "with open(\"./tf_analysis.json\") as file:\n",
    "    for line in file:\n",
    "        line = json.loads(line)\n",
    "        if(line['category']=='commit'):\n",
    "            commits_(line['data'])\n",
    "        elif(line['category']=='pull_request'):\n",
    "            pr_(line['data'])\n",
    "        else:\n",
    "            issues_(line['data'])"
   ]
  },
  {
   "cell_type": "code",
   "execution_count": 21,
   "metadata": {},
   "outputs": [],
   "source": [
    "#creating the issue_df dataframe\n",
    "issue_df = pd.DataFrame(columns = ['index', '#issues', 'users', '#new_users'])\n",
    "issue_df['index'] = indexes\n",
    "issue_df['users'] = [[] for _ in range(len(indexes))]\n",
    "issue_df['#new_users'] = 0\n",
    "issue_df['#issues'] = 0\n",
    "\n",
    "# function to populate the issue_df dataframe (leaving the #new_users column for now)\n",
    "def issues_(issue_data):\n",
    "    created = datetime.strptime(issue_data['created_at'], \"%Y-%m-%dT%H:%M:%SZ\")\n",
    "    index = str(created.year) + \"_\" + quarter[created.month]\n",
    "    issue_df.loc[issue_df['index']==index, 'users'].apply(lambda x: x.append(issue_data['user_data']['login']))\n",
    "    issue_df.loc[issue_df['index']==index, '#issues'] = issue_df.loc[issue_df['index']==index, '#issues'].apply(lambda x : x+1)"
   ]
  },
  {
   "cell_type": "code",
   "execution_count": 22,
   "metadata": {},
   "outputs": [],
   "source": [
    "#creating the pr_df dataframe\n",
    "pr_df = pd.DataFrame(columns = ['index', '#prs', 'users', '#new_users'])\n",
    "pr_df['index'] = indexes\n",
    "pr_df['users'] = [[] for _ in range(len(indexes))]\n",
    "pr_df['#new_users'] = 0\n",
    "pr_df['#prs'] = 0\n",
    "\n",
    "# function to populate the pr_df dataframe (leaving the #new_users column for now)\n",
    "def pr_(pr_data):\n",
    "    created = datetime.strptime(pr_data['created_at'], \"%Y-%m-%dT%H:%M:%SZ\")\n",
    "    index = str(created.year) + \"_\" + quarter[created.month]\n",
    "    pr_df.loc[pr_df['index']==index, 'users'].apply(lambda x: x.append(pr_data['user_data']['login']))\n",
    "    pr_df.loc[pr_df['index']==index, '#prs'] = pr_df.loc[pr_df['index']==index, '#prs'].apply(lambda x : x+1)"
   ]
  },
  {
   "cell_type": "code",
   "execution_count": 23,
   "metadata": {},
   "outputs": [],
   "source": [
    "commit_df = pd.DataFrame(columns = ['index', '#commits', 'commiters', '#new_commiters'])\n",
    "commit_df['index'] = indexes\n",
    "commit_df['commiters'] = [list() for _ in range(len(indexes))]\n",
    "commit_df['#new_commiters'] = 0\n",
    "commit_df['#commits'] = 0\n",
    "\n",
    "# function to populate the commit_df dataframe (leaving the #new_commiters column for now)\n",
    "def commits_(cdata):\n",
    "    commit_date = datetime.strptime(cdata['CommitDate'],\"%a %b %d %H:%M:%S %Y %z\")\n",
    "    index = str(commit_date.year) + \"_\" + quarter[commit_date.month]\n",
    "    commit_df.loc[commit_df['index']==index, 'commiters'].apply(lambda x : x.append(cdata['Author']))\n",
    "    commit_df.loc[commit_df['index']==index, '#commits'] = commit_df.loc[commit_df['index']==index, '#commits'].apply(\n",
    "                                                                                         lambda x :  x+1)"
   ]
  },
  {
   "cell_type": "code",
   "execution_count": 27,
   "metadata": {},
   "outputs": [
    {
     "data": {
      "text/html": [
       "<div>\n",
       "<style scoped>\n",
       "    .dataframe tbody tr th:only-of-type {\n",
       "        vertical-align: middle;\n",
       "    }\n",
       "\n",
       "    .dataframe tbody tr th {\n",
       "        vertical-align: top;\n",
       "    }\n",
       "\n",
       "    .dataframe thead th {\n",
       "        text-align: right;\n",
       "    }\n",
       "</style>\n",
       "<table border=\"1\" class=\"dataframe\">\n",
       "  <thead>\n",
       "    <tr style=\"text-align: right;\">\n",
       "      <th></th>\n",
       "      <th>index</th>\n",
       "      <th>#commits</th>\n",
       "      <th>commiters</th>\n",
       "      <th>#new_commiters</th>\n",
       "    </tr>\n",
       "  </thead>\n",
       "  <tbody>\n",
       "    <tr>\n",
       "      <th>0</th>\n",
       "      <td>2018_Q1</td>\n",
       "      <td>0</td>\n",
       "      <td>[]</td>\n",
       "      <td>0</td>\n",
       "    </tr>\n",
       "    <tr>\n",
       "      <th>1</th>\n",
       "      <td>2018_Q2</td>\n",
       "      <td>0</td>\n",
       "      <td>[]</td>\n",
       "      <td>0</td>\n",
       "    </tr>\n",
       "    <tr>\n",
       "      <th>2</th>\n",
       "      <td>2018_Q3</td>\n",
       "      <td>10</td>\n",
       "      <td>[Ryan Sepassi &lt;rsepassi@google.com&gt;, Ryan Sepa...</td>\n",
       "      <td>0</td>\n",
       "    </tr>\n",
       "    <tr>\n",
       "      <th>3</th>\n",
       "      <td>2018_Q4</td>\n",
       "      <td>272</td>\n",
       "      <td>[Ryan Sepassi &lt;rsepassi@google.com&gt;, Ryan Sepa...</td>\n",
       "      <td>0</td>\n",
       "    </tr>\n",
       "    <tr>\n",
       "      <th>4</th>\n",
       "      <td>2019_Q1</td>\n",
       "      <td>414</td>\n",
       "      <td>[Marcin Michalski &lt;michalski@google.com&gt;, Marc...</td>\n",
       "      <td>0</td>\n",
       "    </tr>\n",
       "    <tr>\n",
       "      <th>5</th>\n",
       "      <td>2019_Q2</td>\n",
       "      <td>0</td>\n",
       "      <td>[]</td>\n",
       "      <td>0</td>\n",
       "    </tr>\n",
       "    <tr>\n",
       "      <th>6</th>\n",
       "      <td>2019_Q3</td>\n",
       "      <td>0</td>\n",
       "      <td>[]</td>\n",
       "      <td>0</td>\n",
       "    </tr>\n",
       "    <tr>\n",
       "      <th>7</th>\n",
       "      <td>2019_Q4</td>\n",
       "      <td>0</td>\n",
       "      <td>[]</td>\n",
       "      <td>0</td>\n",
       "    </tr>\n",
       "  </tbody>\n",
       "</table>\n",
       "</div>"
      ],
      "text/plain": [
       "     index  #commits                                          commiters  \\\n",
       "0  2018_Q1         0                                                 []   \n",
       "1  2018_Q2         0                                                 []   \n",
       "2  2018_Q3        10  [Ryan Sepassi <rsepassi@google.com>, Ryan Sepa...   \n",
       "3  2018_Q4       272  [Ryan Sepassi <rsepassi@google.com>, Ryan Sepa...   \n",
       "4  2019_Q1       414  [Marcin Michalski <michalski@google.com>, Marc...   \n",
       "5  2019_Q2         0                                                 []   \n",
       "6  2019_Q3         0                                                 []   \n",
       "7  2019_Q4         0                                                 []   \n",
       "\n",
       "   #new_commiters  \n",
       "0               0  \n",
       "1               0  \n",
       "2               0  \n",
       "3               0  \n",
       "4               0  \n",
       "5               0  \n",
       "6               0  \n",
       "7               0  "
      ]
     },
     "execution_count": 27,
     "metadata": {},
     "output_type": "execute_result"
    }
   ],
   "source": [
    "commit_df.head(8)"
   ]
  },
  {
   "cell_type": "code",
   "execution_count": 28,
   "metadata": {},
   "outputs": [],
   "source": [
    "commit_df.loc[0, \"#new_commiters\"] = len(commit_df.loc[0,\"commiters\"])\n",
    "pr_df.loc[0, \"#new_users\"] = len(pr_df.loc[0,\"users\"])\n",
    "issue_df.loc[0, \"#new_users\"] = len(issue_df.loc[0,\"users\"])"
   ]
  },
  {
   "cell_type": "code",
   "execution_count": 29,
   "metadata": {},
   "outputs": [],
   "source": [
    "commiters_uptil = set(commit_df.loc[0,'commiters'])\n",
    "for i in range(1, len(indexes)):\n",
    "    current_commiters = set(commit_df.loc[i,'commiters'])\n",
    "    commit_df.loc[i,'#new_commiters'] = len(current_commiters.difference(commiters_uptil))\n",
    "    commiters_uptil.update(current_commiters)\n",
    "    \n",
    "issue_contrib_uptil = set(issue_df.loc[0,'users'])\n",
    "for i in range(1, len(indexes)):\n",
    "    current_contributors = set(issue_df.loc[i,'users'])\n",
    "    issue_df.loc[i,'#new_users'] = len(current_contributors.difference(issue_contrib_uptil))\n",
    "    issue_contrib_uptil.update(current_contributors)\n",
    "    \n",
    "pr_users_uptil = set(pr_df.loc[0,'users'])\n",
    "for i in range(1, len(indexes)):\n",
    "    current_users = set(pr_df.loc[i,'users'])\n",
    "    pr_df.loc[i,'#new_users'] = len(current_users.difference(pr_users_uptil))\n",
    "    pr_users_uptil.update(current_users)"
   ]
  },
  {
   "cell_type": "code",
   "execution_count": 30,
   "metadata": {},
   "outputs": [
    {
     "data": {
      "text/html": [
       "<div>\n",
       "<style scoped>\n",
       "    .dataframe tbody tr th:only-of-type {\n",
       "        vertical-align: middle;\n",
       "    }\n",
       "\n",
       "    .dataframe tbody tr th {\n",
       "        vertical-align: top;\n",
       "    }\n",
       "\n",
       "    .dataframe thead th {\n",
       "        text-align: right;\n",
       "    }\n",
       "</style>\n",
       "<table border=\"1\" class=\"dataframe\">\n",
       "  <thead>\n",
       "    <tr style=\"text-align: right;\">\n",
       "      <th></th>\n",
       "      <th>index</th>\n",
       "      <th>#commits</th>\n",
       "      <th>commiters</th>\n",
       "      <th>#new_commiters</th>\n",
       "    </tr>\n",
       "  </thead>\n",
       "  <tbody>\n",
       "    <tr>\n",
       "      <th>0</th>\n",
       "      <td>2018_Q1</td>\n",
       "      <td>0</td>\n",
       "      <td>[]</td>\n",
       "      <td>0</td>\n",
       "    </tr>\n",
       "    <tr>\n",
       "      <th>1</th>\n",
       "      <td>2018_Q2</td>\n",
       "      <td>0</td>\n",
       "      <td>[]</td>\n",
       "      <td>0</td>\n",
       "    </tr>\n",
       "    <tr>\n",
       "      <th>2</th>\n",
       "      <td>2018_Q3</td>\n",
       "      <td>10</td>\n",
       "      <td>[Ryan Sepassi &lt;rsepassi@google.com&gt;, Ryan Sepa...</td>\n",
       "      <td>3</td>\n",
       "    </tr>\n",
       "    <tr>\n",
       "      <th>3</th>\n",
       "      <td>2018_Q4</td>\n",
       "      <td>272</td>\n",
       "      <td>[Ryan Sepassi &lt;rsepassi@google.com&gt;, Ryan Sepa...</td>\n",
       "      <td>9</td>\n",
       "    </tr>\n",
       "    <tr>\n",
       "      <th>4</th>\n",
       "      <td>2019_Q1</td>\n",
       "      <td>414</td>\n",
       "      <td>[Marcin Michalski &lt;michalski@google.com&gt;, Marc...</td>\n",
       "      <td>30</td>\n",
       "    </tr>\n",
       "  </tbody>\n",
       "</table>\n",
       "</div>"
      ],
      "text/plain": [
       "     index  #commits                                          commiters  \\\n",
       "0  2018_Q1         0                                                 []   \n",
       "1  2018_Q2         0                                                 []   \n",
       "2  2018_Q3        10  [Ryan Sepassi <rsepassi@google.com>, Ryan Sepa...   \n",
       "3  2018_Q4       272  [Ryan Sepassi <rsepassi@google.com>, Ryan Sepa...   \n",
       "4  2019_Q1       414  [Marcin Michalski <michalski@google.com>, Marc...   \n",
       "\n",
       "   #new_commiters  \n",
       "0               0  \n",
       "1               0  \n",
       "2               3  \n",
       "3               9  \n",
       "4              30  "
      ]
     },
     "execution_count": 30,
     "metadata": {},
     "output_type": "execute_result"
    }
   ],
   "source": [
    "commit_df.head()"
   ]
  },
  {
   "cell_type": "code",
   "execution_count": 48,
   "metadata": {},
   "outputs": [
    {
     "data": {
      "text/plain": [
       "int"
      ]
     },
     "execution_count": 48,
     "metadata": {},
     "output_type": "execute_result"
    }
   ],
   "source": [
    "type(commit_date.year)"
   ]
  },
  {
   "cell_type": "code",
   "execution_count": 49,
   "metadata": {},
   "outputs": [
    {
     "data": {
      "text/plain": [
       "int"
      ]
     },
     "execution_count": 49,
     "metadata": {},
     "output_type": "execute_result"
    }
   ],
   "source": [
    "type(commit_date.month)"
   ]
  },
  {
   "cell_type": "code",
   "execution_count": null,
   "metadata": {},
   "outputs": [],
   "source": []
  }
 ],
 "metadata": {
  "kernelspec": {
   "display_name": "Python 3",
   "language": "python",
   "name": "python3"
  },
  "language_info": {
   "codemirror_mode": {
    "name": "ipython",
    "version": 3
   },
   "file_extension": ".py",
   "mimetype": "text/x-python",
   "name": "python",
   "nbconvert_exporter": "python",
   "pygments_lexer": "ipython3",
   "version": "3.5.2"
  }
 },
 "nbformat": 4,
 "nbformat_minor": 2
}
