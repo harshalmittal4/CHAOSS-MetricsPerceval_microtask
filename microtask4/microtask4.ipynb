{
 "cells": [
  {
   "cell_type": "markdown",
   "metadata": {},
   "source": [
    "# Microtask4\n",
    "> Produce a listing of repositories, as a table and as CSV file, with the number of commits authored, issues opened, and pull/merge requests opened, during the last three months, ordered by the total number (commits plus issues plus pull requests). Use plain Python3 (eg, no Pandas) for this."
   ]
  },
  {
   "cell_type": "code",
   "execution_count": null,
   "metadata": {},
   "outputs": [],
   "source": [
    "from access_token import ACCESS_TOKEN"
   ]
  },
  {
   "cell_type": "code",
   "execution_count": 1,
   "metadata": {},
   "outputs": [],
   "source": [
    "from datetime import date, datetime, timedelta\n",
    "from collections import defaultdict\n",
    "import json\n",
    "import csv\n",
    "from tabulate import tabulate"
   ]
  },
  {
   "cell_type": "markdown",
   "metadata": {},
   "source": [
    "### Getting the date 3 months ago from today### Getting the date 3 months ago from today¶\n",
    "Using the date and timedelta from python's [datetime](https://docs.python.org/2/library/datetime.html)"
   ]
  },
  {
   "cell_type": "code",
   "execution_count": 2,
   "metadata": {},
   "outputs": [],
   "source": [
    "initial_date =  date.today() - timedelta(3*365/12) # 3 months ago from today's date\n",
    "initial_date = datetime.combine(initial_date, datetime.min.time())   # convert datetime.date to datetime.datetime"
   ]
  },
  {
   "cell_type": "markdown",
   "metadata": {},
   "source": [
    "### The repos analysed \n",
    "The repos used are [Cloud-CV/Fabrik](https://github.com/Cloud-CV/Fabrik) and [Cloud-CV/Origami](https://github.com/Cloud-CV/Origami)<br>\n",
    "<br>\n",
    "Also, defining\n",
    "- data : dict having *repo* as keys.\n",
    "- The **order** for the data[*repo*] list is  **[commit, issues(only), pull_request]**"
   ]
  },
  {
   "cell_type": "code",
   "execution_count": 3,
   "metadata": {},
   "outputs": [],
   "source": [
    "repos = ['Origami', 'Fabrik']\n",
    "data = defaultdict(list)\n",
    "for repo in repos:\n",
    "    data[repo] = [0,0,0]                 #the order for the list is [commit, issues(only), pull_request]"
   ]
  },
  {
   "cell_type": "markdown",
   "metadata": {},
   "source": [
    "### Using from commandline - Retrieving data for the repositories and storing as json.\n",
    "(Removed the output from here after getting the .json and converted the cell to markdown so the notebook doesn't look cluttered)"
   ]
  },
  {
   "cell_type": "code",
   "execution_count": 1,
   "metadata": {},
   "outputs": [],
   "source": [
    "#owner = \"Cloud-CV\"\n",
    "#for repo in repos:\n",
    "#    outfile = repo.lower() + '_info.json'\n",
    "#    url = \"https://github.com/\" + owner + \"/\" + repo\n",
    "#    !perceval git --json-line $url > $outfile\n",
    "#    !perceval github -t $ACCESS_TOKEN --json-line --sleep-for-rate --category issue $owner $repo >> $outfile\n",
    "#    !perceval github -t $ACCESS_TOKEN --json-line --sleep-for-rate --category pull_request $owner $repo >> $outfile"
   ]
  },
  {
   "cell_type": "markdown",
   "metadata": {},
   "source": [
    "### Function to get the required data from json and filling the data dict\n",
    "\n",
    "For each category, if \"AuthorDate\" (or \"created_date\") > initial_date : <br>\n",
    "- increment the list **data[repo][0] for commits**, **data[repo][1] for issues** and **data[repo][2] for pull_request**"
   ]
  },
  {
   "cell_type": "code",
   "execution_count": 4,
   "metadata": {},
   "outputs": [],
   "source": [
    "def get_count(path, repo):\n",
    "    with open(path) as file:\n",
    "        for line in file:\n",
    "            line = json.loads(line)\n",
    "            if (line['category']=='commit'):\n",
    "                date = datetime.strptime(line['data']['AuthorDate'], \"%a %b %d %H:%M:%S %Y %z\").replace(tzinfo = None)\n",
    "                if(date > initial_date):\n",
    "                    data[repo][0]+=1\n",
    "            \n",
    "            elif(line['category']=='issue' and \"pull_request\" not in line['data']):\n",
    "                date = datetime.strptime(line['data']['created_at'], \"%Y-%m-%dT%H:%M:%SZ\")\n",
    "                if(date > initial_date):\n",
    "                    data[repo][1]+=1\n",
    "            \n",
    "            elif(line['category']=='pull_request'):\n",
    "                date = datetime.strptime(line['data']['created_at'], \"%Y-%m-%dT%H:%M:%SZ\")\n",
    "                if(date > initial_date):\n",
    "                    data[repo][2]+=1\n",
    "                    \n",
    "    data[repo].append(sum(data[repo]))"
   ]
  },
  {
   "cell_type": "markdown",
   "metadata": {},
   "source": [
    "### Calling get_count to populate the data dictionary"
   ]
  },
  {
   "cell_type": "code",
   "execution_count": 5,
   "metadata": {},
   "outputs": [],
   "source": [
    "for repo in repos:\n",
    "    path = repo.lower() + '_info.json'\n",
    "    get_count(path, repo)        "
   ]
  },
  {
   "cell_type": "markdown",
   "metadata": {},
   "source": [
    "## Writing and reading from csv\n",
    "- Makes use of the [csv](https://docs.python.org/3/library/csv.html) python module - csv.writer and csv.reader."
   ]
  },
  {
   "cell_type": "code",
   "execution_count": 6,
   "metadata": {},
   "outputs": [],
   "source": [
    "header = ['Repository', '#CommitsAuthored', '#IssuesOpened', '#PullRequestsOpened', 'TotalActivity']\n",
    "with open(\"./cloudcv_past_3_months.csv\", 'w') as writefile:\n",
    "    writer = csv.writer(writefile)\n",
    "    writer.writerow(header)\n",
    "    \n",
    "    for repo in repos:\n",
    "        writer.writerow([repo, data[repo][0], data[repo][1], data[repo][2], data[repo][3]])"
   ]
  },
  {
   "cell_type": "markdown",
   "metadata": {},
   "source": [
    "### Printing it as a table\n",
    "We can use the [tabulate](https://pypi.org/project/tabulate/) module.\n"
   ]
  },
  {
   "cell_type": "code",
   "execution_count": 7,
   "metadata": {},
   "outputs": [
    {
     "name": "stdout",
     "output_type": "stream",
     "text": [
      "----------  ----------------  -------------  -------------------  -------------\n",
      "Repository  #CommitsAuthored  #IssuesOpened  #PullRequestsOpened  TotalActivity\n",
      "Origami     0                 4              9                    13\n",
      "Fabrik      0                 3              3                    6\n",
      "----------  ----------------  -------------  -------------------  -------------\n"
     ]
    }
   ],
   "source": [
    "with open('./cloudcv_past_3_months.csv') as csvfile:\n",
    "    reader = csv.reader(csvfile, delimiter=',')\n",
    "    print(tabulate(reader))"
   ]
  }
 ],
 "metadata": {
  "kernelspec": {
   "display_name": "Python 3",
   "language": "python",
   "name": "python3"
  },
  "language_info": {
   "codemirror_mode": {
    "name": "ipython",
    "version": 3
   },
   "file_extension": ".py",
   "mimetype": "text/x-python",
   "name": "python",
   "nbconvert_exporter": "python",
   "pygments_lexer": "ipython3",
   "version": "3.5.2"
  }
 },
 "nbformat": 4,
 "nbformat_minor": 2
}
