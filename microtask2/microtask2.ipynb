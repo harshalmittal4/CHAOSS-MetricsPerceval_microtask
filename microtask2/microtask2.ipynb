{
 "cells": [
  {
   "cell_type": "markdown",
   "metadata": {},
   "source": [
    "# Microtask2\n",
    ">Like Microtask 1, but now using [Pandas](http://pandas.pydata.org/)\n",
    ">>Microtask 1: Produce a notebook showing (and producing) a list with the activity per quarter: number of new committers, submitters of issues, and submitters of pull/merge requests, number of items (commits, issues, pull/merge requests), number of repositories with new items (all of this per quarter) as a table and as a CSV file. Use plain Python3 (eg, no Pandas) for this."
   ]
  },
  {
   "cell_type": "markdown",
   "metadata": {},
   "source": [
    "## Quarters\n",
    "The quarters are defined using the following dictionary where the **key corresponds to the month** and **value corresponds to the quarter**  :\n",
    "```\n",
    "quarter={1:'Q1', 2:'Q1', 3:'Q1', 4:'Q2', 5:'Q2', 6:'Q2', 7:'Q3', 8:'Q3', 9:'Q3', 10:'Q4', 11:'Q4', 12:'Q4'}\n",
    "```"
   ]
  },
  {
   "cell_type": "code",
   "execution_count": 1,
   "metadata": {},
   "outputs": [],
   "source": [
    "import json\n",
    "from datetime import datetime \n",
    "import pandas as pd\n",
    "import csv\n",
    "import requests\n",
    "from tabulate import tabulate"
   ]
  },
  {
   "cell_type": "markdown",
   "metadata": {},
   "source": [
    "## Start and end year for the analysis\n",
    "The startyear and endyear for a repository are obtained from the Github API using the [requests].(http://www.python-requests.org/en/latest/)\n",
    "module\n",
    "- startyear : year of repository creation.\n",
    "- endyear : when the repository was last updated.\n",
    "\n",
    "The steps are :\n",
    "1. Call the API\n",
    "1. Assuming the API returns a JSON, parse the JSON object into a Python dict using json.loads function\n",
    "1. Loop through the dict to extract information.\n",
    "\n",
    "`if(Response.ok)`: will help help you determine if your API call is successful (Response code - 200)\n",
    "\n",
    "`Response.raise_for_status()` will help you fetch the http code that is returned from the API."
   ]
  },
  {
   "cell_type": "code",
   "execution_count": 2,
   "metadata": {},
   "outputs": [],
   "source": [
    "url = 'https://api.github.com/repos/tensorflow/datasets' # url of repo to be analysed\n",
    "info = requests.get(url)\n",
    "if(info.ok):\n",
    "    startyear = datetime.strptime(json.loads(info.text)['created_at'], \"%Y-%m-%dT%H:%M:%SZ\").year\n",
    "    endyear = datetime.strptime(json.loads(info.text)['updated_at'], \"%Y-%m-%dT%H:%M:%SZ\").year\n",
    "else : \n",
    "    info.raise_for_status()"
   ]
  },
  {
   "cell_type": "markdown",
   "metadata": {},
   "source": [
    "### Create a dictionary mapping months to quarters, and a list indexes which is as shown below"
   ]
  },
  {
   "cell_type": "code",
   "execution_count": 3,
   "metadata": {},
   "outputs": [],
   "source": [
    "indexes = []\n",
    "for year in range(startyear, endyear+1):\n",
    "    for quarter in ['Q1', 'Q2', 'Q3', 'Q4']:\n",
    "        indexes.append(str(year) + '_' + quarter)\n",
    "        \n",
    "# dictionary mapping month to quarter\n",
    "quarter = {1:'Q1', 2:'Q1', 3:'Q1', 4:'Q2', 5:'Q2', 6:'Q2', 7:'Q3', 8:'Q3', 9:'Q3', 10:'Q4', 11:'Q4', 12:'Q4'}"
   ]
  },
  {
   "cell_type": "markdown",
   "metadata": {},
   "source": [
    "## Functions for isssues, prs and commits\n",
    "\n",
    "#### Adding functionality to code\n",
    "The three functions below for the three categories can be merged into a single function - having category and date fields as paramters, and thus the code can be made more functional, but for clarity I have described them seperately here.\n",
    "### 1) Creating a dataframe issue_df for issues\n",
    "issue_df will have\n",
    "- index (or quarter),\n",
    "- #issues(number of issues opened in that quarter),\n",
    "- users(a list of issue contributors in that quarter),\n",
    "- #new_users(number of new contributors) in that quarter\n",
    "as its columns. <br>\n",
    "\n",
    "The function issue_:\n",
    "```def issues_(issue_data):```\n",
    "populates the issue_df dataframe as shown, **except** the **'#new_users'** column."
   ]
  },
  {
   "cell_type": "code",
   "execution_count": 4,
   "metadata": {},
   "outputs": [],
   "source": [
    "#creating the issue_df dataframe\n",
    "issue_df = pd.DataFrame(columns = ['index', '#issues', 'users', '#new_users'])\n",
    "issue_df['index'] = indexes\n",
    "issue_df['users'] = [[] for _ in range(len(indexes))]\n",
    "issue_df['#new_users'] = 0\n",
    "issue_df['#issues'] = 0\n",
    "\n",
    "# function to populate the issue_df dataframe (leaving the #new_users column for now)\n",
    "def issues_(issue_data):\n",
    "    created = datetime.strptime(issue_data['created_at'], \"%Y-%m-%dT%H:%M:%SZ\")\n",
    "    index = str(created.year) + \"_\" + quarter[created.month]\n",
    "    issue_df.loc[issue_df['index']==index, 'users'].apply(lambda x: x.append(issue_data['user_data']['login']))\n",
    "    issue_df.loc[issue_df['index']==index, '#issues'] = issue_df.loc[issue_df['index']==index, '#issues'].apply(lambda x : x+1)"
   ]
  },
  {
   "cell_type": "markdown",
   "metadata": {},
   "source": [
    "### 2) Creating the dataframes pr_df in the same way\n",
    "and similarly the function ```def pr_(pr_data):```"
   ]
  },
  {
   "cell_type": "code",
   "execution_count": 5,
   "metadata": {},
   "outputs": [],
   "source": [
    "#creating the pr_df dataframe\n",
    "pr_df = pd.DataFrame(columns = ['index', '#prs', 'users', '#new_users'])\n",
    "pr_df['index'] = indexes\n",
    "pr_df['users'] = [[] for _ in range(len(indexes))]\n",
    "pr_df['#new_users'] = 0\n",
    "pr_df['#prs'] = 0\n",
    "\n",
    "# function to populate the pr_df dataframe (leaving the #new_users column for now)\n",
    "def pr_(pr_data):\n",
    "    created = datetime.strptime(pr_data['created_at'], \"%Y-%m-%dT%H:%M:%SZ\")\n",
    "    index = str(created.year) + \"_\" + quarter[created.month]\n",
    "    pr_df.loc[pr_df['index']==index, 'users'].apply(lambda x: x.append(pr_data['user_data']['login']))\n",
    "    pr_df.loc[pr_df['index']==index, '#prs'] = pr_df.loc[pr_df['index']==index, '#prs'].apply(lambda x : x+1)"
   ]
  },
  {
   "cell_type": "markdown",
   "metadata": {},
   "source": [
    "### 3) Creating the dataframes commit_df in the same way\n",
    "and similarly the function ```def commits_(cdata):```"
   ]
  },
  {
   "cell_type": "code",
   "execution_count": 6,
   "metadata": {},
   "outputs": [],
   "source": [
    "commit_df = pd.DataFrame(columns = ['index', '#commits', 'commiters', '#new_commiters'])\n",
    "commit_df['index'] = indexes\n",
    "commit_df['commiters'] = [list() for _ in range(len(indexes))]\n",
    "commit_df['#new_commiters'] = 0\n",
    "commit_df['#commits'] = 0\n",
    "\n",
    "# function to populate the commit_df dataframe (leaving the #new_commiters column for now)\n",
    "def commits_(cdata):\n",
    "    commit_date = datetime.strptime(cdata['CommitDate'],\"%a %b %d %H:%M:%S %Y %z\")\n",
    "    index = str(commit_date.year) + \"_\" + quarter[commit_date.month]\n",
    "    commit_df.loc[commit_df['index']==index, 'commiters'].apply(lambda x : x.append(cdata['Author']))\n",
    "    commit_df.loc[commit_df['index']==index, '#commits'] = commit_df.loc[commit_df['index']==index, '#commits'].apply(\n",
    "                                                                                         lambda x :  x+1)"
   ]
  },
  {
   "cell_type": "markdown",
   "metadata": {},
   "source": [
    "### Reading the json file and calling the functions for corresponding item category to add it to its respective dataframe"
   ]
  },
  {
   "cell_type": "code",
   "execution_count": 7,
   "metadata": {},
   "outputs": [],
   "source": [
    "with open(\"./tf_analysis.json\") as file:\n",
    "    for line in file:\n",
    "        line = json.loads(line)\n",
    "        if(line['category']=='commit'):\n",
    "            commits_(line['data'])\n",
    "        elif(line['category']=='pull_request'):\n",
    "            pr_(line['data'])\n",
    "        else:\n",
    "            issues_(line['data'])"
   ]
  },
  {
   "cell_type": "markdown",
   "metadata": {},
   "source": [
    "### Filling the #new_users column in all the three dataframes"
   ]
  },
  {
   "cell_type": "markdown",
   "metadata": {},
   "source": [
    "For the initial row (initial quarter), #new_users = length of the set of users for that quarter."
   ]
  },
  {
   "cell_type": "code",
   "execution_count": 8,
   "metadata": {},
   "outputs": [],
   "source": [
    "commit_df.loc[0, \"#new_commiters\"] = len(set(commit_df.loc[0,\"commiters\"]))\n",
    "pr_df.loc[0, \"#new_users\"] = len(set(pr_df.loc[0,\"users\"]))\n",
    "issue_df.loc[0, \"#new_users\"] = len(set(issue_df.loc[0,\"users\"]))"
   ]
  },
  {
   "cell_type": "markdown",
   "metadata": {},
   "source": [
    "For each subsequent row (subsequent quarter):<br>\n",
    "- #new_users = length of (set(current_users) - set(contributors_uptil))\n",
    "- contributors_uptil set would be updated by adding the current_users to it if not present"
   ]
  },
  {
   "cell_type": "code",
   "execution_count": 9,
   "metadata": {},
   "outputs": [],
   "source": [
    "commiters_uptil = set(commit_df.loc[0,'commiters'])\n",
    "for i in range(1, len(indexes)):\n",
    "    current_commiters = set(commit_df.loc[i,'commiters'])\n",
    "    commit_df.loc[i,'#new_commiters'] = len(current_commiters.difference(commiters_uptil))\n",
    "    commiters_uptil.update(current_commiters)\n",
    "    \n",
    "issue_contrib_uptil = set(issue_df.loc[0,'users'])\n",
    "for i in range(1, len(indexes)):\n",
    "    current_contributors = set(issue_df.loc[i,'users'])\n",
    "    issue_df.loc[i,'#new_users'] = len(current_contributors.difference(issue_contrib_uptil))\n",
    "    issue_contrib_uptil.update(current_contributors)\n",
    "    \n",
    "pr_users_uptil = set(pr_df.loc[0,'users'])\n",
    "for i in range(1, len(indexes)):\n",
    "    current_users = set(pr_df.loc[i,'users'])\n",
    "    pr_df.loc[i,'#new_users'] = len(current_users.difference(pr_users_uptil))\n",
    "    pr_users_uptil.update(current_users)"
   ]
  },
  {
   "cell_type": "markdown",
   "metadata": {},
   "source": [
    "### Printing the commit_df"
   ]
  },
  {
   "cell_type": "code",
   "execution_count": 10,
   "metadata": {},
   "outputs": [
    {
     "data": {
      "text/html": [
       "<div>\n",
       "<style scoped>\n",
       "    .dataframe tbody tr th:only-of-type {\n",
       "        vertical-align: middle;\n",
       "    }\n",
       "\n",
       "    .dataframe tbody tr th {\n",
       "        vertical-align: top;\n",
       "    }\n",
       "\n",
       "    .dataframe thead th {\n",
       "        text-align: right;\n",
       "    }\n",
       "</style>\n",
       "<table border=\"1\" class=\"dataframe\">\n",
       "  <thead>\n",
       "    <tr style=\"text-align: right;\">\n",
       "      <th></th>\n",
       "      <th>index</th>\n",
       "      <th>#commits</th>\n",
       "      <th>commiters</th>\n",
       "      <th>#new_commiters</th>\n",
       "    </tr>\n",
       "  </thead>\n",
       "  <tbody>\n",
       "    <tr>\n",
       "      <th>0</th>\n",
       "      <td>2018_Q1</td>\n",
       "      <td>0</td>\n",
       "      <td>[]</td>\n",
       "      <td>0</td>\n",
       "    </tr>\n",
       "    <tr>\n",
       "      <th>1</th>\n",
       "      <td>2018_Q2</td>\n",
       "      <td>0</td>\n",
       "      <td>[]</td>\n",
       "      <td>0</td>\n",
       "    </tr>\n",
       "    <tr>\n",
       "      <th>2</th>\n",
       "      <td>2018_Q3</td>\n",
       "      <td>10</td>\n",
       "      <td>[Ryan Sepassi &lt;rsepassi@google.com&gt;, Ryan Sepa...</td>\n",
       "      <td>3</td>\n",
       "    </tr>\n",
       "    <tr>\n",
       "      <th>3</th>\n",
       "      <td>2018_Q4</td>\n",
       "      <td>272</td>\n",
       "      <td>[Ryan Sepassi &lt;rsepassi@google.com&gt;, Ryan Sepa...</td>\n",
       "      <td>9</td>\n",
       "    </tr>\n",
       "    <tr>\n",
       "      <th>4</th>\n",
       "      <td>2019_Q1</td>\n",
       "      <td>414</td>\n",
       "      <td>[Marcin Michalski &lt;michalski@google.com&gt;, Marc...</td>\n",
       "      <td>30</td>\n",
       "    </tr>\n",
       "    <tr>\n",
       "      <th>5</th>\n",
       "      <td>2019_Q2</td>\n",
       "      <td>0</td>\n",
       "      <td>[]</td>\n",
       "      <td>0</td>\n",
       "    </tr>\n",
       "    <tr>\n",
       "      <th>6</th>\n",
       "      <td>2019_Q3</td>\n",
       "      <td>0</td>\n",
       "      <td>[]</td>\n",
       "      <td>0</td>\n",
       "    </tr>\n",
       "    <tr>\n",
       "      <th>7</th>\n",
       "      <td>2019_Q4</td>\n",
       "      <td>0</td>\n",
       "      <td>[]</td>\n",
       "      <td>0</td>\n",
       "    </tr>\n",
       "  </tbody>\n",
       "</table>\n",
       "</div>"
      ],
      "text/plain": [
       "     index  #commits                                          commiters  \\\n",
       "0  2018_Q1         0                                                 []   \n",
       "1  2018_Q2         0                                                 []   \n",
       "2  2018_Q3        10  [Ryan Sepassi <rsepassi@google.com>, Ryan Sepa...   \n",
       "3  2018_Q4       272  [Ryan Sepassi <rsepassi@google.com>, Ryan Sepa...   \n",
       "4  2019_Q1       414  [Marcin Michalski <michalski@google.com>, Marc...   \n",
       "5  2019_Q2         0                                                 []   \n",
       "6  2019_Q3         0                                                 []   \n",
       "7  2019_Q4         0                                                 []   \n",
       "\n",
       "   #new_commiters  \n",
       "0               0  \n",
       "1               0  \n",
       "2               3  \n",
       "3               9  \n",
       "4              30  \n",
       "5               0  \n",
       "6               0  \n",
       "7               0  "
      ]
     },
     "execution_count": 10,
     "metadata": {},
     "output_type": "execute_result"
    }
   ],
   "source": [
    "commit_df.head(8)"
   ]
  },
  {
   "cell_type": "markdown",
   "metadata": {},
   "source": [
    "### Creating a final df by merging all three commit_df, issue_df, pr_df on the column index using [pandas.DataFrame.merge](https://pandas.pydata.org/pandas-docs/stable/reference/api/pandas.DataFrame.merge.html)"
   ]
  },
  {
   "cell_type": "code",
   "execution_count": 11,
   "metadata": {},
   "outputs": [
    {
     "data": {
      "text/html": [
       "<div>\n",
       "<style scoped>\n",
       "    .dataframe tbody tr th:only-of-type {\n",
       "        vertical-align: middle;\n",
       "    }\n",
       "\n",
       "    .dataframe tbody tr th {\n",
       "        vertical-align: top;\n",
       "    }\n",
       "\n",
       "    .dataframe thead th {\n",
       "        text-align: right;\n",
       "    }\n",
       "</style>\n",
       "<table border=\"1\" class=\"dataframe\">\n",
       "  <thead>\n",
       "    <tr style=\"text-align: right;\">\n",
       "      <th></th>\n",
       "      <th>index</th>\n",
       "      <th>#issues</th>\n",
       "      <th>#NewIssueSubmitters</th>\n",
       "      <th>#prs</th>\n",
       "      <th>#NewPRSubmitters</th>\n",
       "      <th>#commits</th>\n",
       "      <th>#NewCommiters</th>\n",
       "    </tr>\n",
       "  </thead>\n",
       "  <tbody>\n",
       "    <tr>\n",
       "      <th>0</th>\n",
       "      <td>2018_Q1</td>\n",
       "      <td>0</td>\n",
       "      <td>0</td>\n",
       "      <td>0</td>\n",
       "      <td>0</td>\n",
       "      <td>0</td>\n",
       "      <td>0</td>\n",
       "    </tr>\n",
       "    <tr>\n",
       "      <th>1</th>\n",
       "      <td>2018_Q2</td>\n",
       "      <td>0</td>\n",
       "      <td>0</td>\n",
       "      <td>0</td>\n",
       "      <td>0</td>\n",
       "      <td>0</td>\n",
       "      <td>0</td>\n",
       "    </tr>\n",
       "    <tr>\n",
       "      <th>2</th>\n",
       "      <td>2018_Q3</td>\n",
       "      <td>4</td>\n",
       "      <td>3</td>\n",
       "      <td>1</td>\n",
       "      <td>1</td>\n",
       "      <td>10</td>\n",
       "      <td>3</td>\n",
       "    </tr>\n",
       "    <tr>\n",
       "      <th>3</th>\n",
       "      <td>2018_Q4</td>\n",
       "      <td>7</td>\n",
       "      <td>6</td>\n",
       "      <td>1</td>\n",
       "      <td>1</td>\n",
       "      <td>272</td>\n",
       "      <td>9</td>\n",
       "    </tr>\n",
       "    <tr>\n",
       "      <th>4</th>\n",
       "      <td>2019_Q1</td>\n",
       "      <td>312</td>\n",
       "      <td>71</td>\n",
       "      <td>175</td>\n",
       "      <td>34</td>\n",
       "      <td>414</td>\n",
       "      <td>30</td>\n",
       "    </tr>\n",
       "    <tr>\n",
       "      <th>5</th>\n",
       "      <td>2019_Q2</td>\n",
       "      <td>0</td>\n",
       "      <td>0</td>\n",
       "      <td>0</td>\n",
       "      <td>0</td>\n",
       "      <td>0</td>\n",
       "      <td>0</td>\n",
       "    </tr>\n",
       "    <tr>\n",
       "      <th>6</th>\n",
       "      <td>2019_Q3</td>\n",
       "      <td>0</td>\n",
       "      <td>0</td>\n",
       "      <td>0</td>\n",
       "      <td>0</td>\n",
       "      <td>0</td>\n",
       "      <td>0</td>\n",
       "    </tr>\n",
       "    <tr>\n",
       "      <th>7</th>\n",
       "      <td>2019_Q4</td>\n",
       "      <td>0</td>\n",
       "      <td>0</td>\n",
       "      <td>0</td>\n",
       "      <td>0</td>\n",
       "      <td>0</td>\n",
       "      <td>0</td>\n",
       "    </tr>\n",
       "  </tbody>\n",
       "</table>\n",
       "</div>"
      ],
      "text/plain": [
       "     index  #issues  #NewIssueSubmitters  #prs  #NewPRSubmitters  #commits  \\\n",
       "0  2018_Q1        0                    0     0                 0         0   \n",
       "1  2018_Q2        0                    0     0                 0         0   \n",
       "2  2018_Q3        4                    3     1                 1        10   \n",
       "3  2018_Q4        7                    6     1                 1       272   \n",
       "4  2019_Q1      312                   71   175                34       414   \n",
       "5  2019_Q2        0                    0     0                 0         0   \n",
       "6  2019_Q3        0                    0     0                 0         0   \n",
       "7  2019_Q4        0                    0     0                 0         0   \n",
       "\n",
       "   #NewCommiters  \n",
       "0              0  \n",
       "1              0  \n",
       "2              3  \n",
       "3              9  \n",
       "4             30  \n",
       "5              0  \n",
       "6              0  \n",
       "7              0  "
      ]
     },
     "execution_count": 11,
     "metadata": {},
     "output_type": "execute_result"
    }
   ],
   "source": [
    "issue_df.drop(['users'], axis = 1, inplace = True)\n",
    "pr_df.drop(['users'], axis = 1, inplace = True)\n",
    "commit_df.drop(['commiters'], axis = 1, inplace = True)\n",
    "pr_df.rename({'#new_users':\"#NewPRSubmitters\"}, axis = 1, inplace = True)\n",
    "issue_df.rename({'#new_users':\"#NewIssueSubmitters\"}, axis = 1, inplace = True)\n",
    "commit_df.rename({'#new_commiters': '#NewCommiters'}, axis = 1, inplace = True)\n",
    "\n",
    "\n",
    "df = issue_df.merge(pr_df, on = \"index\", how = \"inner\")\n",
    "df = df.merge(commit_df, on = \"index\", how = \"inner\")\n",
    "df"
   ]
  },
  {
   "cell_type": "markdown",
   "metadata": {},
   "source": [
    "### Writing datframe to csv, and printing it a table\n",
    "We can use the [tabulate](https://pypi.org/project/tabulate/) module.\n",
    "The dataframe can also be printed using df.valus"
   ]
  },
  {
   "cell_type": "code",
   "execution_count": 12,
   "metadata": {},
   "outputs": [
    {
     "name": "stdout",
     "output_type": "stream",
     "text": [
      "+----+---------+-----------+-----------------------+--------+--------------------+------------+-----------------+\n",
      "|    | index   |   #issues |   #NewIssueSubmitters |   #prs |   #NewPRSubmitters |   #commits |   #NewCommiters |\n",
      "|----+---------+-----------+-----------------------+--------+--------------------+------------+-----------------|\n",
      "|  0 | 2018_Q1 |         0 |                     0 |      0 |                  0 |          0 |               0 |\n",
      "|  1 | 2018_Q2 |         0 |                     0 |      0 |                  0 |          0 |               0 |\n",
      "|  2 | 2018_Q3 |         4 |                     3 |      1 |                  1 |         10 |               3 |\n",
      "|  3 | 2018_Q4 |         7 |                     6 |      1 |                  1 |        272 |               9 |\n",
      "|  4 | 2019_Q1 |       312 |                    71 |    175 |                 34 |        414 |              30 |\n",
      "|  5 | 2019_Q2 |         0 |                     0 |      0 |                  0 |          0 |               0 |\n",
      "|  6 | 2019_Q3 |         0 |                     0 |      0 |                  0 |          0 |               0 |\n",
      "|  7 | 2019_Q4 |         0 |                     0 |      0 |                  0 |          0 |               0 |\n",
      "+----+---------+-----------+-----------------------+--------+--------------------+------------+-----------------+\n"
     ]
    }
   ],
   "source": [
    "df.to_csv(\"./tfdata_pandas.csv\", index=False)\n",
    "print(tabulate(df, headers='keys', tablefmt='psql'))"
   ]
  },
  {
   "cell_type": "code",
   "execution_count": null,
   "metadata": {},
   "outputs": [],
   "source": []
  }
 ],
 "metadata": {
  "kernelspec": {
   "display_name": "Python 3",
   "language": "python",
   "name": "python3"
  },
  "language_info": {
   "codemirror_mode": {
    "name": "ipython",
    "version": 3
   },
   "file_extension": ".py",
   "mimetype": "text/x-python",
   "name": "python",
   "nbconvert_exporter": "python",
   "pygments_lexer": "ipython3",
   "version": "3.5.2"
  }
 },
 "nbformat": 4,
 "nbformat_minor": 2
}
