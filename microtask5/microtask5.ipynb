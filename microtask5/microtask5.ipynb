{
 "cells": [
  {
   "cell_type": "code",
   "execution_count": 6,
   "metadata": {},
   "outputs": [],
   "source": [
    "import json\n",
    "import pandas as pd\n",
    "from tabulate import tabulate"
   ]
  },
  {
   "cell_type": "code",
   "execution_count": null,
   "metadata": {},
   "outputs": [],
   "source": [
    "initial_date =  date.today() - timedelta(3*365/12) # 3 months ago from today's date\n",
    "initial_date = datetime.combine(b, datetime.min.time())   # convert datetime.date to datetime.datetime"
   ]
  },
  {
   "cell_type": "code",
   "execution_count": null,
   "metadata": {},
   "outputs": [],
   "source": [
    "df = pd.DataFrame(columns = [\"Repository_name\", \"#CommitsAuthored\", '#IssuesOpened', '#PullRequestsOpened', 'TotalActivity'])\n",
    "\n",
    "for repo in repos:\n",
    "    commits = 0\n",
    "    issues = 0\n",
    "    prs = 0\n",
    "    \n",
    "    file = repo.lower() + '_info.json'\n",
    "    with open(file) as f:\n",
    "        for line in f:\n",
    "            line = json.loads(line)\n",
    "            if(line['category'] == 'commit'):\n",
    "                date = datetime.strptime(line['data']['AuthorDate'], \"%a %b %d %H:%M:%S %Y %z\")\n",
    "                if(date >= initial_date):\n",
    "                    commits+=1\n",
    "            \n",
    "            elif(line['category'] == 'issue' and \"pull_request\" not in line['date']):\n",
    "                date = datetime.strptime(line['data']['created_at'], \"%Y-%m-%dT%H:%M:%SZ\")\n",
    "                if(date >= initial_date):\n",
    "                    issues+=1\n",
    "                    \n",
    "            elif(line['category'] == 'pull_request'):\n",
    "                date = datetime.strptime(line['data']['created_at'], \"%Y-%m-%dT%H:%M:%SZ\")\n",
    "                if(date >= initial_date):\n",
    "                    prs+=1\n",
    "                     \n",
    "    total = commits + issues + prs\n",
    "    summary = [repo, commits, issues, prs, total]\n",
    "    df.append(summary, sort = False)    \n",
    "    "
   ]
  },
  {
   "cell_type": "code",
   "execution_count": null,
   "metadata": {},
   "outputs": [],
   "source": [
    "# Writing dataframe to csv\n",
    "df.to_csv(\"./cloudcv_last3months_pandas\", index=False)\n",
    "\n",
    "#printing dataframe as table\n",
    "print(tabulate(df, headers='keys', tablefmt='psql'))"
   ]
  },
  {
   "cell_type": "code",
   "execution_count": null,
   "metadata": {},
   "outputs": [],
   "source": []
  }
 ],
 "metadata": {
  "kernelspec": {
   "display_name": "Python 3",
   "language": "python",
   "name": "python3"
  },
  "language_info": {
   "codemirror_mode": {
    "name": "ipython",
    "version": 3
   },
   "file_extension": ".py",
   "mimetype": "text/x-python",
   "name": "python",
   "nbconvert_exporter": "python",
   "pygments_lexer": "ipython3",
   "version": "3.5.2"
  }
 },
 "nbformat": 4,
 "nbformat_minor": 2
}
