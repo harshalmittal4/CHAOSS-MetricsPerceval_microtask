{
 "cells": [
  {
   "cell_type": "markdown",
   "metadata": {},
   "source": [
    "# Microtask5\n",
    ">Like Microtask 4, but now using [Pandas](http://pandas.pydata.org/).\n",
    ">>Microtask 4: Produce a listing of repositories, as a table and as CSV file, with the number of commits authored, issues opened, and pull/merge requests opened, during the last three months, ordered by the total number (commits plus issues plus pull requests). Use plain Python3 (eg, no Pandas) for this."
   ]
  },
  {
   "cell_type": "code",
   "execution_count": 1,
   "metadata": {},
   "outputs": [],
   "source": [
    "import pandas as pd\n",
    "import json\n",
    "from tabulate import tabulate\n",
    "from datetime import date, timedelta, datetime"
   ]
  },
  {
   "cell_type": "markdown",
   "metadata": {},
   "source": [
    "### Getting the date 3 months ago from today¶\n",
    "Using the date and timedelta from python's [datetime](https://docs.python.org/2/library/datetime.html)"
   ]
  },
  {
   "cell_type": "code",
   "execution_count": 2,
   "metadata": {},
   "outputs": [],
   "source": [
    "initial_date =  date.today() - timedelta(3*365/12) # 3 months ago from today's date\n",
    "initial_date = datetime.combine(initial_date, datetime.min.time())   # convert datetime.date to datetime.datetime"
   ]
  },
  {
   "cell_type": "markdown",
   "metadata": {},
   "source": [
    "### Function to analyse and extract the count for 3 categories for the past three months"
   ]
  },
  {
   "cell_type": "code",
   "execution_count": 5,
   "metadata": {},
   "outputs": [],
   "source": [
    "def analysis_last3months(repo, df):\n",
    "    file = repo.lower() + '_info.json'\n",
    "    commits = 0\n",
    "    issues = 0\n",
    "    prs = 0 \n",
    "    with open(file) as f:\n",
    "        for line in f:\n",
    "            line = json.loads(line)\n",
    "            if(line['category'] == 'commit'):\n",
    "                date = datetime.strptime(line['data']['AuthorDate'], \"%a %b %d %H:%M:%S %Y %z\").replace(tzinfo = None)\n",
    "                if(date >= initial_date):\n",
    "                    commits+=1\n",
    "            \n",
    "            elif(line['category'] == 'issue' and \"pull_request\" not in line['data']):\n",
    "                date = datetime.strptime(line['data']['created_at'], \"%Y-%m-%dT%H:%M:%SZ\")\n",
    "                if(date >= initial_date):\n",
    "                    issues+=1\n",
    "                    \n",
    "            elif(line['category'] == 'pull_request'):\n",
    "                date = datetime.strptime(line['data']['created_at'], \"%Y-%m-%dT%H:%M:%SZ\")\n",
    "                if(date >= initial_date):\n",
    "                    prs+=1\n",
    "                     \n",
    "    total = commits + issues + prs\n",
    "    summary = {\"Repository_name\":repo, \"#CommitsAuthored\": commits, '#IssuesOpened':issues, '#PullRequestsOpened':prs, 'TotalActivity':total}\n",
    "    content.append(summary)"
   ]
  },
  {
   "cell_type": "markdown",
   "metadata": {},
   "source": [
    "### Defining the DataFrame and calling `def analysis_last3months` to populate the DataFrame \n",
    "Pandas DataFrame object can be referred from [here](https://pandas.pydata.org/pandas-docs/stable/reference/api/pandas.DataFrame.html).<br>\n",
    "The repos used are [Cloud-CV/Fabrik](https://github.com/Cloud-CV/Fabrik) and [Cloud-CV/Origami](https://github.com/Cloud-CV/Origami)"
   ]
  },
  {
   "cell_type": "code",
   "execution_count": 9,
   "metadata": {},
   "outputs": [],
   "source": [
    "repos = ['Fabrik', 'Origami']\n",
    "df = pd.DataFrame(columns = [\"Repository_name\", \"#CommitsAuthored\", '#IssuesOpened', '#PullRequestsOpened', 'TotalActivity'])\n",
    "content = []\n",
    "for repo in repos:\n",
    "    analysis_last3months(repo, content)\n",
    "df = df.append(content)"
   ]
  },
  {
   "cell_type": "markdown",
   "metadata": {},
   "source": [
    "### Writing datframe to csv, and printing it as a table\n",
    "We can use the [tabulate](https://pypi.org/project/tabulate/) module."
   ]
  },
  {
   "cell_type": "code",
   "execution_count": 10,
   "metadata": {},
   "outputs": [
    {
     "name": "stdout",
     "output_type": "stream",
     "text": [
      "+----+-------------------+--------------------+-----------------+-----------------------+-----------------+\n",
      "|    | Repository_name   |   #CommitsAuthored |   #IssuesOpened |   #PullRequestsOpened |   TotalActivity |\n",
      "|----+-------------------+--------------------+-----------------+-----------------------+-----------------|\n",
      "|  0 | Fabrik            |                  0 |               3 |                     3 |               6 |\n",
      "|  1 | Origami           |                  0 |               4 |                     9 |              13 |\n",
      "+----+-------------------+--------------------+-----------------+-----------------------+-----------------+\n"
     ]
    }
   ],
   "source": [
    "# Writing dataframe to csv\n",
    "df.to_csv(\"./cloudcv_last3months_pandas\", index=False)\n",
    "\n",
    "#printing dataframe as table\n",
    "print(tabulate(df, headers='keys', tablefmt='psql'))"
   ]
  },
  {
   "cell_type": "code",
   "execution_count": null,
   "metadata": {},
   "outputs": [],
   "source": []
  }
 ],
 "metadata": {
  "kernelspec": {
   "display_name": "Python 3",
   "language": "python",
   "name": "python3"
  },
  "language_info": {
   "codemirror_mode": {
    "name": "ipython",
    "version": 3
   },
   "file_extension": ".py",
   "mimetype": "text/x-python",
   "name": "python",
   "nbconvert_exporter": "python",
   "pygments_lexer": "ipython3",
   "version": "3.5.2"
  }
 },
 "nbformat": 4,
 "nbformat_minor": 2
}
