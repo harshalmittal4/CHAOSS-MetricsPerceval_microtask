{
 "cells": [
  {
   "cell_type": "code",
   "execution_count": 65,
   "metadata": {},
   "outputs": [],
   "source": [
    "import json\n",
    "from datetime import datetime \n",
    "from collections import defaultdict\n",
    "import csv\n",
    "from tabulate import tabulate\n",
    "import requests"
   ]
  },
  {
   "cell_type": "code",
   "execution_count": 66,
   "metadata": {},
   "outputs": [],
   "source": [
    "url = 'https://api.github.com/repos/tensorflow/datasets' # url of repo to be analysed\n",
    "info = requests.get(url)\n",
    "if(info.ok):\n",
    "    startyear = datetime.strptime(json.loads(info.text)['created_at'], \"%Y-%m-%dT%H:%M:%SZ\").year\n",
    "    endyear = datetime.strptime(json.loads(info.text)['updated_at'], \"%Y-%m-%dT%H:%M:%SZ\").year\n",
    "else : \n",
    "    info.raise_for_status()"
   ]
  },
  {
   "cell_type": "code",
   "execution_count": 67,
   "metadata": {},
   "outputs": [],
   "source": [
    "# dictionary mapping month to quarter\n",
    "\n",
    "indexes = []\n",
    "for year in range(startyear, endyear+1):\n",
    "    for quarter in ['Q1', 'Q2', 'Q3', 'Q4']:\n",
    "        indexes.append(str(year) + '_' + quarter)"
   ]
  },
  {
   "cell_type": "code",
   "execution_count": 68,
   "metadata": {},
   "outputs": [],
   "source": [
    "commits_count = {}\n",
    "issue_count = {}\n",
    "pr_count = {}\n",
    "\n",
    "commiters_new = defaultdict(set)\n",
    "iss_creators_new = defaultdict(set)\n",
    "pr_senders_new = defaultdict(set)\n",
    "\n",
    "for key in indexes:         \n",
    "        commits_count[key] = 0\n",
    "        issue_count[key] = 0\n",
    "        pr_count [key] = 0"
   ]
  },
  {
   "cell_type": "code",
   "execution_count": 69,
   "metadata": {},
   "outputs": [],
   "source": [
    "quarter={1:'Q1', 2:'Q1', 3:'Q1', 4:'Q2', 5:'Q2', 6:'Q2', 7:'Q3', 8:'Q3', 9:'Q3', 10:'Q4', 11:'Q4', 12:'Q4'}\n",
    "with open(\"./tf_analysis.json\") as f:\n",
    "    for line in f:\n",
    "        line = json.loads(line)\n",
    "        if (line['category']=='commit'):\n",
    "            date = datetime.strptime(line['data']['CommitDate'],\"%a %b %d %H:%M:%S %Y %z\")\n",
    "            year = date.year\n",
    "            month = date.month\n",
    "            key = str(year) + \"_\" + quarter[month]\n",
    "            commits_count[key]+= 1\n",
    "            commiters_new[key].add(line['data']['Author'])\n",
    "            \n",
    "        elif(line['category']=='issue'):\n",
    "            date = datetime.strptime(line['data']['created_at'],\"%Y-%m-%dT%H:%M:%SZ\")\n",
    "            year = date.year\n",
    "            month = date.month\n",
    "            key = str(year) + '_' + quarter[month]\n",
    "            issue_count[key]+=1\n",
    "            iss_creators_new[key].add(line['data']['user_data']['login'])\n",
    "        \n",
    "        else:\n",
    "            date = datetime.strptime(line['data']['created_at'],\"%Y-%m-%dT%H:%M:%SZ\")\n",
    "            year = date.year\n",
    "            month = date.month\n",
    "            key = str(year) + '_' + quarter[month]\n",
    "            pr_count[key]+=1\n",
    "            pr_senders_new[key].add(line['data']['user_data']['login'])"
   ]
  },
  {
   "cell_type": "code",
   "execution_count": 70,
   "metadata": {},
   "outputs": [],
   "source": [
    "quarter_count = len(indexes)\n",
    "old_commiters = commiters_new[0]\n",
    "old_pr_senders = pr_senders_new[0]\n",
    "old_iss_creators = iss_creators_new[0]\n",
    "\n",
    "for i in range (1, quarter_count):\n",
    "    commiters_new[indexes[i]] = commiters_new[indexes[i]].difference(old_commiters)\n",
    "    iss_creators_new[indexes[i]] = iss_creators_new[indexes[i]].difference(old_iss_creators)\n",
    "    pr_senders_new[indexes[i]] = pr_senders_new[indexes[i]].difference(old_pr_senders)\n",
    "    old_commiters.update(commiters_new[indexes[i]])\n",
    "    old_pr_senders.update(pr_senders_new[indexes[i]])\n",
    "    old_iss_creators.update(iss_creators_new[indexes[i]])        "
   ]
  },
  {
   "cell_type": "code",
   "execution_count": 71,
   "metadata": {},
   "outputs": [],
   "source": [
    "header = ['Quarter','# Commits','# Issues','# PullRequests','# NewCommitters','# NewIssueSubmitters','# NewPRSubmitters' ]\n",
    "\n",
    "with open('data.csv', 'w') as file:\n",
    "    writer = csv.writer(file)\n",
    "    writer.writerow(header)\n",
    "\n",
    "    for i, key in enumerate(indexes):\n",
    "        row = (indexes[i], commits_count[key], issue_count[key], pr_count[key], len(commiters_new[key]), len(iss_creators_new[key]), len(pr_senders_new[key]) )\n",
    "        writer.writerow(row)\n",
    "    "
   ]
  },
  {
   "cell_type": "code",
   "execution_count": 73,
   "metadata": {},
   "outputs": [
    {
     "name": "stdout",
     "output_type": "stream",
     "text": [
      "-------  ---------  --------  --------------  ---------------  --------------------  -----------------\n",
      "Quarter  # Commits  # Issues  # PullRequests  # NewCommitters  # NewIssueSubmitters  # NewPRSubmitters\n",
      "2018_Q1  0          0         0               0                0                     0\n",
      "2018_Q2  0          0         0               0                0                     0\n",
      "2018_Q3  10         4         1               3                3                     1\n",
      "2018_Q4  272        7         1               9                6                     1\n",
      "2019_Q1  414        312       175             30               71                    34\n",
      "2019_Q2  0          0         0               0                0                     0\n",
      "2019_Q3  0          0         0               0                0                     0\n",
      "2019_Q4  0          0         0               0                0                     0\n",
      "-------  ---------  --------  --------------  ---------------  --------------------  -----------------\n"
     ]
    }
   ],
   "source": [
    "with open('data.csv') as csvfile:\n",
    "    reader = csv.reader(csvfile, delimiter=',')\n",
    "    print(tabulate(reader))"
   ]
  }
 ],
 "metadata": {
  "kernelspec": {
   "display_name": "Python 3",
   "language": "python",
   "name": "python3"
  },
  "language_info": {
   "codemirror_mode": {
    "name": "ipython",
    "version": 3
   },
   "file_extension": ".py",
   "mimetype": "text/x-python",
   "name": "python",
   "nbconvert_exporter": "python",
   "pygments_lexer": "ipython3",
   "version": "3.5.2"
  }
 },
 "nbformat": 4,
 "nbformat_minor": 2
}
